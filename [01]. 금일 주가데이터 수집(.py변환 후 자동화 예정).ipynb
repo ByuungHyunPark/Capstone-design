{
 "cells": [
  {
   "cell_type": "markdown",
   "metadata": {},
   "source": [
    "수집하는 데이터\n",
    "1. close_price\n",
    "2. open_price\n",
    "3. high_price\n",
    "4. low_price\n",
    "5. volume \n",
    "\n",
    "__해당 코드는, 금일 데이터를 수집하는 코드이다. 매일 장 마감 후에 자동화로 수집을 진행예정__"
   ]
  },
  {
   "cell_type": "code",
   "execution_count": 1,
   "metadata": {},
   "outputs": [],
   "source": [
    "import re\n",
    "from urllib.request import urlopen\n",
    "from bs4 import BeautifulSoup\n",
    "\n",
    "import datetime\n",
    "# 파일 입출력 담당\n",
    "from file_rw import *\n",
    "\n",
    "import os\n",
    "# delete directory and files at once\n",
    "import shutil"
   ]
  },
  {
   "cell_type": "code",
   "execution_count": 2,
   "metadata": {
    "scrolled": false
   },
   "outputs": [
    {
     "name": "stdout",
     "output_type": "stream",
     "text": [
      "302440 SK바이오사이언스 close :  152000 , open : 150500\n",
      "378850 화승알앤에이 close :  6390 , open : 6700\n",
      "950210 프레스티지바이오파마 close :  33850 , open : 35150\n",
      "248070 솔루엠 close :  25050 , open : 24750\n",
      "375500 DL이앤씨 close :  133000 , open : 135000\n",
      "365550 ESR켄달스퀘어리츠 close :  6460 , open : 6450\n"
     ]
    }
   ],
   "source": [
    "\n",
    "# 네이버 금융으로 url 변경\n",
    "def crawl(c_code):\n",
    "    url = \"https://finance.naver.com/item/main.nhn?code=\"\n",
    "    url += str(c_code)\n",
    "    html = urlopen(url)\n",
    "\n",
    "    soup =  BeautifulSoup(html, \"html.parser\")\n",
    "    \n",
    "    #0.종가\n",
    "    close_price = soup.find_all(\"dd\")[3]\n",
    "    close_price = re.sub(pattern = ',' ,repl = '', string = str(close_price))\n",
    "    close_price = re.findall(pattern = r'현재가 \\d*', string = close_price)[0].split(' ')[1]\n",
    "\n",
    "    #1.시가\n",
    "    open_price = soup.find_all(\"dd\")[5]\n",
    "    open_price = re.sub(pattern = ',' ,repl = '', string = str(open_price))\n",
    "    open_price = re.findall(pattern = r'시가 \\d*', string = open_price)[0].split(' ')[1]\n",
    "\n",
    "    #2.고가\n",
    "    high_price = soup.find_all(\"dd\")[6]\n",
    "    high_price = re.sub(pattern = ',' ,repl = '', string = str(high_price))\n",
    "    high_price = re.findall(pattern = r'고가 \\d*', string = high_price)[0].split(' ')[1]\n",
    "\n",
    "    #3.저가\n",
    "    low_price = soup.find_all(\"dd\")[8]\n",
    "    low_price = re.sub(pattern = ',' ,repl = '', string = str(low_price))\n",
    "    low_price = re.findall(pattern = r'저가 \\d*', string = low_price)[0].split(' ')[1]\n",
    "\n",
    "    #4.거래량\n",
    "    volume = soup.find_all(\"dd\")[10]\n",
    "    volume = re.sub(pattern = ',' ,repl = '', string = str(volume))\n",
    "    volume = re.findall(pattern = r'거래량 \\d*', string = volume)[0].split(' ')[1]\n",
    "    \n",
    "    res = [close_price, open_price, high_price, low_price, volume]\n",
    "    \n",
    "    return res\n",
    "\n",
    "\n",
    "jongmok_code = pd.read_csv(\"../kospi-stock-code.csv\")\n",
    "\n",
    "\n",
    "daily_data = {}\n",
    "\n",
    "for i in range(len(jongmok_code)):\n",
    "    c_name = jongmok_code.iloc[i][\"회사명\"]\n",
    "    daily_data[c_name] = {}\n",
    "    c_code = str(jongmok_code.iloc[i][\"종목코드\"])\n",
    "    \n",
    "    \n",
    "    #종목코드는 무조건 6글자\n",
    "    if len(c_code) < 6:\n",
    "        ii = 6 - len(c_code)\n",
    "        c_code = '0' * ii + str(c_code)\n",
    "        \n",
    "    res = crawl(c_code)\n",
    "    \n",
    "    close_price = res[0]\n",
    "    open_price = res[1]\n",
    "    high_price = res[2]\n",
    "    low_price = res[3]\n",
    "    volume = res[4]\n",
    "    \n",
    "    daily_data[c_name][\"code\"] = c_code\n",
    "    daily_data[c_name][\"close_price\"] = close_price\n",
    "    daily_data[c_name][\"open_price\"] = open_price\n",
    "    daily_data[c_name][\"high_price\"] = high_price\n",
    "    daily_data[c_name][\"low_price\"] = low_price\n",
    "    daily_data[c_name][\"volume\"] = volume\n",
    "    \n",
    "    \n",
    "    print(c_code, c_name, 'close : ', close_price, ', open :', open_price)\n",
    "    \n",
    "    #많은 양을 수집하는데 시간 오래걸려서, 일단 테스트용으로 5개종목 데이터만 수집\n",
    "    if i == 5:\n",
    "        break\n",
    "\n",
    "        \n",
    "#수집한 일별 데이터 적재\n",
    "result = []\n",
    "for k in daily_data:\n",
    "    result.append(daily_data[k])"
   ]
  },
  {
   "cell_type": "code",
   "execution_count": 3,
   "metadata": {},
   "outputs": [
    {
     "name": "stdout",
     "output_type": "stream",
     "text": [
      "2021_05_02/dailyUpdateData.json\n"
     ]
    }
   ],
   "source": [
    "#날짜데이터로 저장\n",
    "now = datetime.datetime.now()\n",
    "nowDate = now.strftime('%Y_%m_%d')\n",
    "\n",
    "#Now Date String\n",
    "nds = str(nowDate)\n",
    "\n",
    "#File Name\n",
    "fn1 = str(nds) + '/dailyUpdateData.json'\n",
    "\n",
    "\n",
    "\"\"\"ec2 서버 내에 json 파일로 저장시의 경로 설정\n",
    "\n",
    "directory_ = ??? # 폴더명\n",
    "dn = '/home/ec2-user/app/' + directory_ +'/data/' + str(nds)\n",
    "if os.path.isdir(dn):\n",
    "    shutil.rmtree(dn)\n",
    "os.mkdir(dn)\n",
    "\"\"\"\n",
    "\n",
    "print(fn1)"
   ]
  },
  {
   "cell_type": "code",
   "execution_count": 9,
   "metadata": {},
   "outputs": [
    {
     "name": "stdout",
     "output_type": "stream",
     "text": [
      "데이터 수집 일 :  2021_05_02\n"
     ]
    },
    {
     "data": {
      "text/html": [
       "<div>\n",
       "<style scoped>\n",
       "    .dataframe tbody tr th:only-of-type {\n",
       "        vertical-align: middle;\n",
       "    }\n",
       "\n",
       "    .dataframe tbody tr th {\n",
       "        vertical-align: top;\n",
       "    }\n",
       "\n",
       "    .dataframe thead th {\n",
       "        text-align: right;\n",
       "    }\n",
       "</style>\n",
       "<table border=\"1\" class=\"dataframe\">\n",
       "  <thead>\n",
       "    <tr style=\"text-align: right;\">\n",
       "      <th></th>\n",
       "      <th>code</th>\n",
       "      <th>close_price</th>\n",
       "      <th>open_price</th>\n",
       "      <th>high_price</th>\n",
       "      <th>low_price</th>\n",
       "      <th>volume</th>\n",
       "    </tr>\n",
       "  </thead>\n",
       "  <tbody>\n",
       "    <tr>\n",
       "      <th>0</th>\n",
       "      <td>302440</td>\n",
       "      <td>152000</td>\n",
       "      <td>150500</td>\n",
       "      <td>156000</td>\n",
       "      <td>144500</td>\n",
       "      <td>916879</td>\n",
       "    </tr>\n",
       "    <tr>\n",
       "      <th>1</th>\n",
       "      <td>378850</td>\n",
       "      <td>6390</td>\n",
       "      <td>6700</td>\n",
       "      <td>6860</td>\n",
       "      <td>6350</td>\n",
       "      <td>558523</td>\n",
       "    </tr>\n",
       "    <tr>\n",
       "      <th>2</th>\n",
       "      <td>950210</td>\n",
       "      <td>33850</td>\n",
       "      <td>35150</td>\n",
       "      <td>35500</td>\n",
       "      <td>33800</td>\n",
       "      <td>883896</td>\n",
       "    </tr>\n",
       "    <tr>\n",
       "      <th>3</th>\n",
       "      <td>248070</td>\n",
       "      <td>25050</td>\n",
       "      <td>24750</td>\n",
       "      <td>25300</td>\n",
       "      <td>24250</td>\n",
       "      <td>547104</td>\n",
       "    </tr>\n",
       "    <tr>\n",
       "      <th>4</th>\n",
       "      <td>375500</td>\n",
       "      <td>133000</td>\n",
       "      <td>135000</td>\n",
       "      <td>135500</td>\n",
       "      <td>131000</td>\n",
       "      <td>269461</td>\n",
       "    </tr>\n",
       "    <tr>\n",
       "      <th>5</th>\n",
       "      <td>365550</td>\n",
       "      <td>6460</td>\n",
       "      <td>6450</td>\n",
       "      <td>6500</td>\n",
       "      <td>6440</td>\n",
       "      <td>317140</td>\n",
       "    </tr>\n",
       "  </tbody>\n",
       "</table>\n",
       "</div>"
      ],
      "text/plain": [
       "     code close_price open_price high_price low_price  volume\n",
       "0  302440      152000     150500     156000    144500  916879\n",
       "1  378850        6390       6700       6860      6350  558523\n",
       "2  950210       33850      35150      35500     33800  883896\n",
       "3  248070       25050      24750      25300     24250  547104\n",
       "4  375500      133000     135000     135500    131000  269461\n",
       "5  365550        6460       6450       6500      6440  317140"
      ]
     },
     "execution_count": 9,
     "metadata": {},
     "output_type": "execute_result"
    }
   ],
   "source": [
    "#저장 형태는 이와 같지만, Json 형태로 저장 예정\n",
    "print('데이터 수집 일 : ', nds)\n",
    "pd.DataFrame(result)"
   ]
  },
  {
   "cell_type": "code",
   "execution_count": 11,
   "metadata": {},
   "outputs": [
    {
     "name": "stdout",
     "output_type": "stream",
     "text": [
      "[{'code': '302440', 'close_price': '152000', 'open_price': '150500', 'high_price': '156000', 'low_price': '144500', 'volume': '916879'}, {'code': '378850', 'close_price': '6390', 'open_price': '6700', 'high_price': '6860', 'low_price': '6350', 'volume': '558523'}, {'code': '950210', 'close_price': '33850', 'open_price': '35150', 'high_price': '35500', 'low_price': '33800', 'volume': '883896'}, {'code': '248070', 'close_price': '25050', 'open_price': '24750', 'high_price': '25300', 'low_price': '24250', 'volume': '547104'}, {'code': '375500', 'close_price': '133000', 'open_price': '135000', 'high_price': '135500', 'low_price': '131000', 'volume': '269461'}, {'code': '365550', 'close_price': '6460', 'open_price': '6450', 'high_price': '6500', 'low_price': '6440', 'volume': '317140'}]\n"
     ]
    }
   ],
   "source": [
    "#파일 네임은 fn1로, json 파일로 저장\n",
    "print(result)\n",
    "\n",
    "#JsonWrite(fn1, result)"
   ]
  }
 ],
 "metadata": {
  "kernelspec": {
   "display_name": "Python 3",
   "language": "python",
   "name": "python3"
  },
  "language_info": {
   "codemirror_mode": {
    "name": "ipython",
    "version": 3
   },
   "file_extension": ".py",
   "mimetype": "text/x-python",
   "name": "python",
   "nbconvert_exporter": "python",
   "pygments_lexer": "ipython3",
   "version": "3.7.0"
  }
 },
 "nbformat": 4,
 "nbformat_minor": 4
}
